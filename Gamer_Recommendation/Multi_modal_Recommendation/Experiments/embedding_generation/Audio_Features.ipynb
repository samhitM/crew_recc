{
 "cells": [
  {
   "cell_type": "markdown",
   "metadata": {},
   "source": [
    "# AudioEmbeddingExtractor Class\n",
    "\n",
    "The `AudioEmbeddingExtractor` class is designed to handle the extraction of audio embeddings using the VGGish model from TensorFlow Hub, save these embeddings to a CSV file, and compute cosine similarity between the embeddings.\n",
    "\n",
    "## Functions\n",
    "\n",
    "- **__init__(self, audio_dir, embedding_file, vggish_model_url='https://tfhub.dev/google/vggish/1')**\n",
    "  - Initializes the class with the directory of audio files, the file to save embeddings, and the VGGish model URL.\n",
    "\n",
    "- **load_and_preprocess_audio(self, audio_file)**\n",
    "  - Loads and preprocesses an audio file, normalizing the waveform.\n",
    "\n",
    "- **get_embeddings(self, audio_file)**\n",
    "  - Extracts the VGGish embeddings from an audio file and returns the mean of the embedding batch.\n",
    "\n",
    "- **extract_embeddings(self)**\n",
    "  - Extracts embeddings for all audio files in the specified directory and saves them to a CSV file.\n",
    "\n",
    "- **compute_cosine_similarity(self)**\n",
    "  - Computes and prints the cosine similarity matrix between the extracted embeddings.\n"
   ]
  },
  {
   "cell_type": "code",
   "execution_count": 3,
   "metadata": {},
   "outputs": [
    {
     "name": "stderr",
     "output_type": "stream",
     "text": [
      "Extracting embeddings: 100%|██████████| 132/132 [08:41<00:00,  3.95s/it]"
     ]
    },
    {
     "name": "stdout",
     "output_type": "stream",
     "text": [
      "[[ 1.         -0.84605974 -0.57733514 ...  0.97031921 -0.81763315\n",
      "  -0.83027508]\n",
      " [-0.84605974  1.          0.31645597 ... -0.79676824  0.68237485\n",
      "   0.80003714]\n",
      " [-0.57733514  0.31645597  1.         ... -0.65401476  0.50326707\n",
      "   0.27250846]\n",
      " ...\n",
      " [ 0.97031921 -0.79676824 -0.65401476 ...  1.         -0.76700101\n",
      "  -0.77202247]\n",
      " [-0.81763315  0.68237485  0.50326707 ... -0.76700101  1.\n",
      "   0.75856906]\n",
      " [-0.83027508  0.80003714  0.27250846 ... -0.77202247  0.75856906\n",
      "   1.        ]]\n"
     ]
    },
    {
     "name": "stderr",
     "output_type": "stream",
     "text": [
      "\n"
     ]
    }
   ],
   "source": [
    "from tqdm import tqdm\n",
    "import tensorflow as tf\n",
    "import numpy as np\n",
    "import pandas as pd\n",
    "import tensorflow_hub as hub\n",
    "import librosa\n",
    "import gc\n",
    "import os\n",
    "import csv\n",
    "import glob\n",
    "from sklearn.metrics.pairwise import cosine_similarity\n",
    "\n",
    "class AudioEmbeddingExtractor:\n",
    "    def __init__(self, audio_dir, embedding_file, vggish_model_url='https://tfhub.dev/google/vggish/1'):\n",
    "        self.audio_dir = audio_dir\n",
    "        self.embedding_file = embedding_file\n",
    "        self.vggish_model = hub.load(vggish_model_url)\n",
    "    \n",
    "    def load_and_preprocess_audio(self, audio_file):\n",
    "        \"\"\"Loads and preprocesses an audio file.\"\"\"\n",
    "        waveform, sr = librosa.load(audio_file, sr=16000, mono=True)\n",
    "        waveform = waveform / np.max(np.abs(waveform))\n",
    "        return waveform\n",
    "    \n",
    "    def get_embeddings(self, audio_file):\n",
    "        \"\"\"Extracts embeddings from an audio file.\"\"\"\n",
    "        try:\n",
    "            waveform = self.load_and_preprocess_audio(audio_file)\n",
    "            waveform_tensor = tf.convert_to_tensor(waveform, dtype=tf.float32)\n",
    "            embeddings = self.vggish_model(waveform_tensor)\n",
    "\n",
    "            if isinstance(embeddings, dict):\n",
    "                embeddings = embeddings['embedding']\n",
    "\n",
    "            embedding_batch = embeddings.numpy()\n",
    "            return np.mean(embedding_batch, axis=0)\n",
    "        \n",
    "        except Exception as e:\n",
    "            print(f\"Error processing {audio_file}: {e}\")\n",
    "            return None\n",
    "    \n",
    "    def extract_embeddings(self):\n",
    "        \"\"\"Extracts embeddings for all audio files in the directory and saves them to a CSV file.\"\"\"\n",
    "        audio_files = glob.glob(os.path.join(self.audio_dir, \"*.wav\"))\n",
    "\n",
    "        with open(self.embedding_file, 'w', newline='') as f:\n",
    "            writer = csv.writer(f)\n",
    "\n",
    "            for audio_file in tqdm(audio_files, desc=\"Extracting embeddings\"):\n",
    "                embedding = self.get_embeddings(audio_file)\n",
    "                \n",
    "                if embedding is not None:\n",
    "                    writer.writerow(embedding)\n",
    "\n",
    "                gc.collect()\n",
    "\n",
    "    def compute_cosine_similarity(self):\n",
    "        \"\"\"Computes and prints the cosine similarity between the extracted embeddings.\"\"\"\n",
    "        embeddings = pd.read_csv(self.embedding_file)\n",
    "        embeddings.dropna(inplace=True)\n",
    "        similarity_matrix = cosine_similarity(embeddings.T)\n",
    "        print(similarity_matrix)\n",
    "\n",
    "\n",
    "if __name__ == \"__main__\":\n",
    "    audio_dir = \"../../Datasets/ml-100k/Audio/\"\n",
    "    embedding_file = f\"{audio_dir}embeddings.csv\"\n",
    "\n",
    "    extractor = AudioEmbeddingExtractor(audio_dir, embedding_file)\n",
    "    extractor.extract_embeddings()\n",
    "    extractor.compute_cosine_similarity()\n"
   ]
  }
 ],
 "metadata": {
  "kernelspec": {
   "display_name": "Python 3 (ipykernel)",
   "language": "python",
   "name": "python3"
  },
  "language_info": {
   "codemirror_mode": {
    "name": "ipython",
    "version": 3
   },
   "file_extension": ".py",
   "mimetype": "text/x-python",
   "name": "python",
   "nbconvert_exporter": "python",
   "pygments_lexer": "ipython3",
   "version": "3.10.12"
  }
 },
 "nbformat": 4,
 "nbformat_minor": 4
}
